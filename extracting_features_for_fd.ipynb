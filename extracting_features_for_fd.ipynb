{
 "cells": [
  {
   "cell_type": "code",
   "execution_count": 1,
   "metadata": {},
   "outputs": [],
   "source": [
    "import os\n",
    "import numpy as np\n",
    "import tensorflow as tf\n",
    "from tensorflow import keras\n",
    "from tensorflow.keras.layers import Dense,BatchNormalization,Bidirectional,LSTM,Dropout,Conv2D,AveragePooling2D,Flatten\n",
    "from tensorflow.keras.models import Model,load_model,save_model,Sequential\n",
    "from tensorflow.keras.callbacks import ReduceLROnPlateau,ModelCheckpoint\n",
    "from tensorflow.keras.applications.resnet import ResNet152\n",
    "from PIL import Image\n",
    "import glob\n",
    "import tqdm\n",
    "import pickle"
   ]
  },
  {
   "cell_type": "code",
   "execution_count": 2,
   "metadata": {},
   "outputs": [],
   "source": [
    "os.environ['TF_FORCE_GPU_ALLOW_GROWTH'] = 'true'\n",
    "physical_devices = tf.config.experimental.list_physical_devices('GPU')\n",
    "if len(physical_devices) > 0:\n",
    "    tf.config.experimental.set_memory_growth(physical_devices[0], True)"
   ]
  },
  {
   "cell_type": "code",
   "execution_count": 26,
   "metadata": {},
   "outputs": [],
   "source": [
    "class Dataloader:\n",
    "    def __init__(self, datapath, classes, max_frames, img_shape, channels, saving_dir):\n",
    "        self.datapath = datapath\n",
    "        self.classes = classes\n",
    "        self.seq_length = max_frames\n",
    "        self.height = img_shape[0]\n",
    "        self.width = img_shape[1]\n",
    "        self.channels = channels\n",
    "        self.base_model = ResNet152(include_top = False,input_shape=(224,224,3),weights = None)\n",
    "        self.base_model.load_weights(r'D:\\Downloads\\resnet152_weights_tf_dim_ordering_tf_kernels_notop.h5')\n",
    "        self.saving_dir = saving_dir\n",
    "        \n",
    "        for layer in self.base_model.layers:\n",
    "            layer.trainable = False\n",
    "        self.op = self.base_model.output\n",
    "        self.x_model = AveragePooling2D((7,7),name='avg_pool')(self.op)\n",
    "        self.x_model = Flatten()(self.x_model)\n",
    "        \n",
    "        self.model = Model(self.base_model.input,self.x_model)\n",
    "        #print(self.model.summary())\n",
    "        \n",
    "            \n",
    "    def get_frame_sequence(self,path):\n",
    "        total_frames = os.listdir(path)\n",
    "        arr = np.zeros((224,224,3,40))\n",
    "        if len(total_frames) >= 160:\n",
    "            counter = 0\n",
    "            for i in range(1,160,4):\n",
    "                x = Image.open(os.path.join(path,str(i) + '.JPG'))\n",
    "                x = np.array(x)\n",
    "                arr[:,:,:,counter] = x\n",
    "                counter+=1\n",
    "                if(counter >= self.seq_length):\n",
    "                    break\n",
    "                    \n",
    "        elif((len(total_frames) >= 120) and (len(total_frames) <160)):\n",
    "            counter = 0\n",
    "            for i in range(1,120,3):\n",
    "                x = Image.open(os.path.join(path,str(i) + '.JPG'))\n",
    "                x = np.array(x)\n",
    "                arr[:,:,:,counter] = x\n",
    "                counter+=1\n",
    "                if(counter >= self.seq_length):\n",
    "                    break\n",
    "        \n",
    "        elif((len(total_frames) >= 99) and (len(total_frames) < 120)):\n",
    "            counter = 0\n",
    "            for i in range(0,40,2):\n",
    "                x = Image.open(os.path.join(path,str(i) + '.JPG'))\n",
    "                x = np.array(x)\n",
    "                arr[:,:,:,counter] = x\n",
    "                counter+=1\n",
    "            for i in range(41,99,3):\n",
    "                x = Image.open(os.path.join(path,str(i) + '.JPG'))\n",
    "                x = np.array(x)\n",
    "                arr[:,:,:,counter] = x\n",
    "                counter += 1\n",
    "                if(counter >= self.seq_length):\n",
    "                    break\n",
    "                \n",
    "        elif((len(total_frames) >= 80) and (len(total_frames) < 98)):\n",
    "            counter = 0\n",
    "            for i in range(0,80,2):\n",
    "                x = Image.open(os.path.join(path,str(i) + '.JPG'))\n",
    "                x = np.array(x)\n",
    "                arr[:,:,:,counter] = x\n",
    "                counter += 1\n",
    "                if(counter == self.seq_length):\n",
    "                    break\n",
    "        else:\n",
    "            counter = 0\n",
    "            for i in range(40):\n",
    "                x = Image.open(os.path.join(path,str(i) + '.JPG'))\n",
    "                x = np.array(x)\n",
    "                arr[:,:,:,counter] = x\n",
    "                counter += 1\n",
    "                if(counter >= self.seq_length):\n",
    "                    break\n",
    "                    \n",
    "        #print(arr.shape)\n",
    "        return arr\n",
    "            \n",
    "    def extract_feature(self,x_train):\n",
    "        x_op = np.zeros((2048,40))\n",
    "        for i in range(x_train.shape[3]):\n",
    "            x_t = x_train[:,:,:,i]\n",
    "            x_t = np.expand_dims(x_t,axis = 0)\n",
    "            x = self.model.predict(x_t)\n",
    "            x_op[:,i] = x\n",
    "        \n",
    "        return x_op\n",
    "    \n",
    "    def get_all_sequence_in_memory(self):\n",
    "        counter = 0\n",
    "        y_train = []\n",
    "        x_train = []\n",
    "        for i in self.classes:\n",
    "            directory_path = os.path.join(self.datapath,i)\n",
    "            if i == 'violence':\n",
    "                y = 1\n",
    "            else:\n",
    "                y = 0\n",
    "                \n",
    "            list_dir = os.listdir(directory_path)\n",
    "            for folder in tqdm.tqdm(list_dir):\n",
    "                path = os.path.join(directory_path,folder)\n",
    "                arr = self.get_frame_sequence(path)\n",
    "                x_ext = self.extract_feature(arr)\n",
    "                x_train.append(x_ext)\n",
    "                counter+=1\n",
    "                y_train.append(y)\n",
    "        save_file_x = os.path.join(self.saving_dir,'data_x_ext.npy')\n",
    "        save_file_y = os.path.join(self.saving_dir,'data_y.npy')\n",
    "        np.save(save_file_x,np.array(x_train))\n",
    "        np.save(save_file_y,np.array(y_train))\n",
    "        return x_train,y_train\n",
    "    \n",
    "    def load_npy_file(self):\n",
    "        x_train = np.load(self.datapath + 'data_x.npy')\n",
    "        y_train = np.load(self.datapath + 'data_y.npy')\n",
    "        \n",
    "        return x_train,y_train\n"
   ]
  },
  {
   "cell_type": "code",
   "execution_count": null,
   "metadata": {},
   "outputs": [],
   "source": [
    "def extract_features(x_train):     #x_train must be numpy array\n",
    "    model = ResNet152(include_top = False,image_shape=(224,224,3),weights = 'imagenet')\n",
    "    features = []\n",
    "    for layer in model.layers:\n",
    "        layer.trainable = False\n",
    "    total_videos = 2000\n",
    "    for i in range(2000):\n",
    "        temp = np.zeros((224,224,3,40))\n",
    "        for j in range(40):\n",
    "            fv = model.predict(x_train[:,:,:,j,i])\n",
    "            temp[:,:,:,j] = fv\n",
    "        features.append(temp)\n",
    "    np.save('',np.array(features))"
   ]
  },
  {
   "cell_type": "code",
   "execution_count": 27,
   "metadata": {},
   "outputs": [],
   "source": [
    "def load_data():\n",
    "    data_loader = Dataloader(r'D:\\temp_fight',['violence','non_violence'],40,(224,224),3,r'D:\\temp_fight\\saving_things')\n",
    "    x_val,y_val = data_loader.get_all_sequence_in_memory()\n",
    "    return x_val,y_val"
   ]
  },
  {
   "cell_type": "code",
   "execution_count": 28,
   "metadata": {},
   "outputs": [
    {
     "name": "stderr",
     "output_type": "stream",
     "text": [
      "100%|████████████████████████████████████████████████████████████████████████████████████| 5/5 [01:03<00:00, 12.72s/it]\n",
      "100%|████████████████████████████████████████████████████████████████████████████████████| 5/5 [00:43<00:00,  8.68s/it]\n"
     ]
    }
   ],
   "source": [
    "if __name__ == '__main__':\n",
    "    x_train,y_train = load_data()"
   ]
  },
  {
   "cell_type": "code",
   "execution_count": 29,
   "metadata": {},
   "outputs": [
    {
     "data": {
      "text/plain": [
       "10"
      ]
     },
     "execution_count": 29,
     "metadata": {},
     "output_type": "execute_result"
    }
   ],
   "source": [
    "len(x_train)"
   ]
  },
  {
   "cell_type": "code",
   "execution_count": 34,
   "metadata": {},
   "outputs": [],
   "source": [
    "x = np.load(r'D:\\temp_fight\\saving_things\\data_x_ext.npy')"
   ]
  },
  {
   "cell_type": "code",
   "execution_count": null,
   "metadata": {},
   "outputs": [],
   "source": []
  }
 ],
 "metadata": {
  "kernelspec": {
   "display_name": "Python 3",
   "language": "python",
   "name": "python3"
  },
  "language_info": {
   "codemirror_mode": {
    "name": "ipython",
    "version": 3
   },
   "file_extension": ".py",
   "mimetype": "text/x-python",
   "name": "python",
   "nbconvert_exporter": "python",
   "pygments_lexer": "ipython3",
   "version": "3.7.0"
  }
 },
 "nbformat": 4,
 "nbformat_minor": 2
}
