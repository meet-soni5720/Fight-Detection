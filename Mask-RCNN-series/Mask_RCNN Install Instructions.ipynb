{
 "cells": [
  {
   "cell_type": "markdown",
   "metadata": {
    "extensions": {
     "jupyter_dashboards": {
      "version": 1,
      "views": {
       "grid_default": {
        "col": 0,
        "height": 4,
        "hidden": false,
        "row": 0,
        "width": 4
       },
       "report_default": {}
      }
     }
    },
    "slideshow": {
     "slide_type": "slide"
    }
   },
   "source": [
    "# MASK RCNN"
   ]
  },
  {
   "cell_type": "markdown",
   "metadata": {
    "extensions": {
     "jupyter_dashboards": {
      "version": 1,
      "views": {
       "grid_default": {
        "col": 0,
        "height": 6,
        "hidden": false,
        "row": 4,
        "width": 12
       },
       "report_default": {}
      }
     }
    },
    "slideshow": {
     "slide_type": "slide"
    }
   },
   "source": [
    "# What is Mask RCNN\n",
    "\n",
    "- Faster RCNN (object detection with bounding boxes) + Masks\n",
    "- Developed by the Facebook AI Research (FAIR)\n",
    "- read more on it here https://arxiv.org/pdf/1703.06870.pdf\n",
    "- watch a video on it https://www.youtube.com/watch?v=g7z4mkfRjI4"
   ]
  },
  {
   "cell_type": "markdown",
   "metadata": {
    "collapsed": true,
    "extensions": {
     "jupyter_dashboards": {
      "version": 1,
      "views": {
       "grid_default": {
        "col": 0,
        "height": 6,
        "hidden": false,
        "row": 10,
        "width": 12
       },
       "report_default": {}
      }
     }
    },
    "slideshow": {
     "slide_type": "slide"
    }
   },
   "source": [
    "# Overview on how to install\n",
    "- Step 1: create a conda virtual environment with python 3.6\n",
    "- Step 2: install the dependencies\n",
    "- Step 3: Clone the Mask_RCNN repo\n",
    "- Step 4: install pycocotools\n",
    "- Step 5: download the pre-trained weights\n",
    "- Step 6: Test it"
   ]
  },
  {
   "cell_type": "markdown",
   "metadata": {
    "extensions": {
     "jupyter_dashboards": {
      "version": 1,
      "views": {
       "grid_default": {
        "hidden": true
       },
       "report_default": {}
      }
     }
    },
    "slideshow": {
     "slide_type": "slide"
    }
   },
   "source": [
    "# Step 1 - Create a conda virtual environment\n",
    "\n",
    "we will be using Anaconda with python 3.6. \n",
    "\n",
    "If you don't have Anaconda, follow this tutorial\n",
    "\n",
    "    https://www.youtube.com/watch?v=T8wK5loXkXg\n",
    "\n",
    "- run this command in a CMD window\n",
    "\n",
    "```conda create -n MaskRCNN python=3.6 pip```"
   ]
  },
  {
   "cell_type": "markdown",
   "metadata": {
    "extensions": {
     "jupyter_dashboards": {
      "version": 1,
      "views": {
       "grid_default": {
        "col": 0,
        "height": 9,
        "hidden": false,
        "row": 16,
        "width": 12
       },
       "report_default": {}
      }
     }
    },
    "slideshow": {
     "slide_type": "slide"
    }
   },
   "source": [
    "# Step 2 - Install the Dependencies\n",
    "\n",
    "- place the ```requirements.txt``` in your ```cwdir```\n",
    "- https://github.com/markjay4k/Mask-RCNN-series/blob/master/requirements.txt\n",
    "- run these commands\n",
    "```python \n",
    "actvitate MaskRCNN\n",
    "pip install -r requirements.txt```\n",
    "\n",
    "- NOTE: we're installing these (tf-gpu requires some pre-reqs)\n",
    "```python\n",
    "numpy, scipy, cython, h5py, Pillow, scikit-image, \n",
    "tensorflow-gpu==1.5, keras, jupyter\n",
    "```"
   ]
  },
  {
   "cell_type": "markdown",
   "metadata": {
    "slideshow": {
     "slide_type": "slide"
    }
   },
   "source": [
    "# Step 3 - Clone the Mask RCNN Repo\n",
    "\n",
    "- Run this command\n",
    "\n",
    "```\n",
    "git clone https://github.com/matterport/Mask_RCNN.git\n",
    "```"
   ]
  },
  {
   "cell_type": "markdown",
   "metadata": {
    "extensions": {
     "jupyter_dashboards": {
      "version": 1,
      "views": {
       "grid_default": {
        "hidden": true
       },
       "report_default": {}
      }
     }
    },
    "slideshow": {
     "slide_type": "slide"
    }
   },
   "source": [
    "# Step 4 - Install pycocotools\n",
    "\n",
    "- NOTE: pycocotools requires Visual C++ 2015 Build Tools\n",
    "- download here if needed https://www.visualstudio.com/downloads/#build-tools-for-visual-studio-2017\n",
    "\n",
    "- clone this repo\n",
    "\n",
    "```\n",
    "git clone https://github.com/philferriere/cocoapi.git\n",
    "```\n",
    "- use pip to install pycocotools\n",
    "\n",
    "```\n",
    "pip install git+https://github.com/philferriere/cocoapi.git#subdirectory=PythonAPI\n",
    "```"
   ]
  },
  {
   "cell_type": "markdown",
   "metadata": {
    "slideshow": {
     "slide_type": "slide"
    }
   },
   "source": [
    "# Step 5 - Download the Pre-trained Weights\n",
    "\n",
    "- Go here https://github.com/matterport/Mask_RCNN/releases\n",
    "- download the ```mask_rcnn_coco.h5``` file\n",
    "- place the file in the ```Mask_RCNN``` directory"
   ]
  },
  {
   "cell_type": "markdown",
   "metadata": {
    "slideshow": {
     "slide_type": "slide"
    }
   },
   "source": [
    "# Step 6 - Let's Test it!\n",
    "\n",
    "- open up the demo.ipynb and run it"
   ]
  }
 ],
 "metadata": {
  "celltoolbar": "Slideshow",
  "extensions": {
   "jupyter_dashboards": {
    "activeView": "grid_default",
    "version": 1,
    "views": {
     "grid_default": {
      "cellMargin": 10,
      "defaultCellHeight": 20,
      "maxColumns": 12,
      "name": "grid",
      "type": "grid"
     },
     "report_default": {
      "name": "report",
      "type": "report"
     }
    }
   }
  },
  "kernelspec": {
   "display_name": "Python 3",
   "language": "python",
   "name": "python3"
  },
  "language_info": {
   "codemirror_mode": {
    "name": "ipython",
    "version": 3
   },
   "file_extension": ".py",
   "mimetype": "text/x-python",
   "name": "python",
   "nbconvert_exporter": "python",
   "pygments_lexer": "ipython3",
   "version": "3.7.5"
  }
 },
 "nbformat": 4,
 "nbformat_minor": 2
}
