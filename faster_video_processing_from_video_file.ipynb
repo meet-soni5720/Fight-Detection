{
 "cells": [
  {
   "cell_type": "code",
   "execution_count": 1,
   "metadata": {},
   "outputs": [],
   "source": [
    "import sys\n",
    "import os\n",
    "import cv2\n",
    "import imutils\n",
    "from imutils.video import FPS\n",
    "import numpy as np\n",
    "from threading import Thread\n",
    "import time\n",
    "from tqdm import tqdm"
   ]
  },
  {
   "cell_type": "code",
   "execution_count": 2,
   "metadata": {},
   "outputs": [],
   "source": [
    "if sys.version_info >= (3, 0):\n",
    "    from queue import Queue\n",
    "\n",
    "else:\n",
    "    from Queue import Queue"
   ]
  },
  {
   "cell_type": "code",
   "execution_count": 3,
   "metadata": {},
   "outputs": [],
   "source": [
    "class FileVideoStream:\n",
    "    def __init__(self,path,queueSize=128):\n",
    "        self.stream = cv2.VideoCapture(path)\n",
    "        self.stopped = False\n",
    "        self.Q = Queue(maxsize = queueSize)\n",
    "        \n",
    "    def start(self):\n",
    "        t = Thread(target=self.update,args=())\n",
    "        t.daemon = True\n",
    "        t.start()\n",
    "        return self\n",
    "\n",
    "    def update(self):\n",
    "        while True:\n",
    "            if self.stopped:\n",
    "                return\n",
    "            if not self.Q.full():\n",
    "                (grabbed, frame) = self.stream.read()\n",
    "            \n",
    "                if not grabbed:\n",
    "                    self.stop()\n",
    "                    return\n",
    "            \n",
    "                self.Q.put(frame)\n",
    "\n",
    "    def read(self):\n",
    "        return self.Q.get()\n",
    "\n",
    "    def more(self):\n",
    "        return self.Q.qsize() > 0\n",
    "\n",
    "    def stop(self):\n",
    "        self.stopped = True"
   ]
  },
  {
   "cell_type": "code",
   "execution_count": 4,
   "metadata": {},
   "outputs": [],
   "source": [
    "data_path = \"D:/real-life-violence-situations-dataset/Real Life Violence Dataset/Violence\"\n",
    "save_path = \"D:/real-life-violence-situations-dataset/violence_images\""
   ]
  },
  {
   "cell_type": "code",
   "execution_count": 5,
   "metadata": {},
   "outputs": [
    {
     "name": "stdout",
     "output_type": "stream",
     "text": [
      "['V_1.mp4', 'V_10.mp4', 'V_100.mp4', 'V_1000.mp4', 'V_101.mp4', 'V_102.mp4', 'V_103.mp4', 'V_104.mp4', 'V_105.mp4', 'V_106.mp4', 'V_107.mp4', 'V_108.mp4', 'V_109.mp4', 'V_11.mp4', 'V_110.mp4', 'V_111.mp4', 'V_112.mp4', 'V_113.mp4', 'V_114.mp4', 'V_115.mp4', 'V_116.mp4', 'V_117.mp4', 'V_118.mp4', 'V_119.mp4', 'V_12.mp4', 'V_120.mp4', 'V_121.mp4', 'V_122.mp4', 'V_123.mp4', 'V_124.mp4', 'V_125.mp4', 'V_126.mp4', 'V_127.mp4', 'V_128.mp4', 'V_129.mp4', 'V_13.mp4', 'V_130.mp4', 'V_131.mp4', 'V_132.mp4', 'V_133.mp4', 'V_134.mp4', 'V_135.mp4', 'V_136.mp4', 'V_137.mp4', 'V_138.mp4', 'V_139.mp4', 'V_14.mp4', 'V_140.mp4', 'V_141.mp4', 'V_142.mp4', 'V_143.mp4', 'V_144.mp4', 'V_145.mp4', 'V_146.mp4', 'V_147.mp4', 'V_148.mp4', 'V_149.mp4', 'V_15.mp4', 'V_150.mp4', 'V_151.mp4', 'V_152.mp4', 'V_153.mp4', 'V_154.mp4', 'V_155.mp4', 'V_156.mp4', 'V_157.mp4', 'V_158.mp4', 'V_159.mp4', 'V_16.mp4', 'V_160.mp4', 'V_161.mp4', 'V_162.mp4', 'V_163.mp4', 'V_164.mp4', 'V_165.mp4', 'V_166.mp4', 'V_167.mp4', 'V_168.mp4', 'V_169.mp4', 'V_17.mp4', 'V_170.mp4', 'V_171.mp4', 'V_172.mp4', 'V_173.mp4', 'V_174.mp4', 'V_175.mp4', 'V_176.mp4', 'V_177.mp4', 'V_178.mp4', 'V_179.mp4', 'V_18.mp4', 'V_180.mp4', 'V_181.mp4', 'V_182.mp4', 'V_183.mp4', 'V_184.mp4', 'V_185.mp4', 'V_186.mp4', 'V_187.mp4', 'V_188.mp4', 'V_189.mp4', 'V_19.mp4', 'V_190.mp4', 'V_191.mp4', 'V_192.mp4', 'V_193.mp4', 'V_194.mp4', 'V_195.mp4', 'V_196.mp4', 'V_197.mp4', 'V_198.mp4', 'V_199.mp4', 'V_2.mp4', 'V_20.mp4', 'V_200.mp4', 'V_201.mp4', 'V_202.mp4', 'V_203.mp4', 'V_204.mp4', 'V_205.mp4', 'V_206.mp4', 'V_207.mp4', 'V_208.mp4', 'V_209.mp4', 'V_21.mp4', 'V_210.mp4', 'V_211.mp4', 'V_212.mp4', 'V_213.mp4', 'V_214.mp4', 'V_215.mp4', 'V_216.mp4', 'V_217.mp4', 'V_218.mp4', 'V_219.mp4', 'V_22.mp4', 'V_220.mp4', 'V_221.mp4', 'V_222.mp4', 'V_223.mp4', 'V_224.mp4', 'V_225.mp4', 'V_226.mp4', 'V_227.mp4', 'V_228.mp4', 'V_229.mp4', 'V_23.mp4', 'V_230.mp4', 'V_231.mp4', 'V_232.mp4', 'V_233.mp4', 'V_234.mp4', 'V_235.mp4', 'V_236.mp4', 'V_237.mp4', 'V_238.mp4', 'V_239.mp4', 'V_24.mp4', 'V_240.mp4', 'V_241.mp4', 'V_242.mp4', 'V_243.mp4', 'V_244.mp4', 'V_245.mp4', 'V_246.mp4', 'V_247.mp4', 'V_248.mp4', 'V_249.mp4', 'V_25.mp4', 'V_250.mp4', 'V_251.mp4', 'V_252.mp4', 'V_253.mp4', 'V_254.mp4', 'V_255.mp4', 'V_256.mp4', 'V_257.mp4', 'V_258.mp4', 'V_259.mp4', 'V_26.mp4', 'V_260.mp4', 'V_261.mp4', 'V_262.mp4', 'V_263.mp4', 'V_264.mp4', 'V_265.mp4', 'V_266.mp4', 'V_267.mp4', 'V_268.mp4', 'V_269.mp4', 'V_27.mp4', 'V_270.mp4', 'V_271.mp4', 'V_272.mp4', 'V_273.mp4', 'V_274.mp4', 'V_275.mp4', 'V_276.mp4', 'V_277.mp4', 'V_278.mp4', 'V_279.mp4', 'V_28.mp4', 'V_280.mp4', 'V_281.mp4', 'V_282.mp4', 'V_283.mp4', 'V_284.mp4', 'V_285.mp4', 'V_286.mp4', 'V_287.mp4', 'V_288.mp4', 'V_289.mp4', 'V_29.mp4', 'V_290.mp4', 'V_291.mp4', 'V_292.mp4', 'V_293.mp4', 'V_294.mp4', 'V_295.mp4', 'V_296.mp4', 'V_297.mp4', 'V_298.mp4', 'V_299.mp4', 'V_3.mp4', 'V_30.mp4', 'V_300.mp4', 'V_301.mp4', 'V_302.mp4', 'V_303.mp4', 'V_304.mp4', 'V_305.mp4', 'V_306.mp4', 'V_307.mp4', 'V_308.mp4', 'V_309.mp4', 'V_31.mp4', 'V_310.mp4', 'V_311.mp4', 'V_312.mp4', 'V_313.mp4', 'V_314.mp4', 'V_315.mp4', 'V_316.mp4', 'V_317.mp4', 'V_318.mp4', 'V_319.mp4', 'V_32.mp4', 'V_320.mp4', 'V_321.mp4', 'V_322.mp4', 'V_323.mp4', 'V_324.mp4', 'V_325.mp4', 'V_326.mp4', 'V_327.mp4', 'V_328.mp4', 'V_329.mp4', 'V_33.mp4', 'V_330.mp4', 'V_331.mp4', 'V_332.mp4', 'V_333.mp4', 'V_334.mp4', 'V_335.mp4', 'V_336.mp4', 'V_337.mp4', 'V_338.mp4', 'V_339.mp4', 'V_34.mp4', 'V_340.mp4', 'V_341.mp4', 'V_342.mp4', 'V_343.mp4', 'V_344.mp4', 'V_345.mp4', 'V_346.mp4', 'V_347.mp4', 'V_348.mp4', 'V_349.mp4', 'V_35.mp4', 'V_350.mp4', 'V_351.mp4', 'V_352.mp4', 'V_353.mp4', 'V_354.mp4', 'V_355.mp4', 'V_356.mp4', 'V_357.mp4', 'V_358.mp4', 'V_359.mp4', 'V_36.mp4', 'V_360.mp4', 'V_361.mp4', 'V_362.mp4', 'V_363.mp4', 'V_364.mp4', 'V_365.mp4', 'V_366.mp4', 'V_367.mp4', 'V_368.mp4', 'V_369.mp4', 'V_37.mp4', 'V_370.mp4', 'V_371.mp4', 'V_372.mp4', 'V_373.mp4', 'V_374.mp4', 'V_375.mp4', 'V_376.mp4', 'V_377.mp4', 'V_378.mp4', 'V_379.mp4', 'V_38.mp4', 'V_380.mp4', 'V_381.mp4', 'V_382.mp4', 'V_383.mp4', 'V_384.mp4', 'V_385.mp4', 'V_386.mp4', 'V_387.mp4', 'V_388.mp4', 'V_389.mp4', 'V_39.mp4', 'V_390.mp4', 'V_391.mp4', 'V_392.mp4', 'V_393.mp4', 'V_394.mp4', 'V_395.mp4', 'V_396.mp4', 'V_397.mp4', 'V_398.mp4', 'V_399.mp4', 'V_4.mp4', 'V_40.mp4', 'V_400.mp4', 'V_401.mp4', 'V_402.mp4', 'V_403.mp4', 'V_404.mp4', 'V_405.mp4', 'V_406.mp4', 'V_407.mp4', 'V_408.mp4', 'V_409.mp4', 'V_41.mp4', 'V_410.mp4', 'V_411.mp4', 'V_412.mp4', 'V_413.mp4', 'V_414.mp4', 'V_415.mp4', 'V_416.mp4', 'V_417.mp4', 'V_418.mp4', 'V_419.mp4', 'V_42.mp4', 'V_420.mp4', 'V_421.mp4', 'V_422.mp4', 'V_423.mp4', 'V_424.mp4', 'V_425.mp4', 'V_426.mp4', 'V_427.mp4', 'V_428.mp4', 'V_429.mp4', 'V_43.mp4', 'V_430.mp4', 'V_431.mp4', 'V_432.mp4', 'V_433.mp4', 'V_434.mp4', 'V_435.mp4', 'V_436.mp4', 'V_437.mp4', 'V_438.mp4', 'V_439.mp4', 'V_44.mp4', 'V_440.mp4', 'V_441.mp4', 'V_442.mp4', 'V_443.mp4', 'V_444.mp4', 'V_445.mp4', 'V_446.mp4', 'V_447.mp4', 'V_448.mp4', 'V_449.mp4', 'V_45.mp4', 'V_450.mp4', 'V_451.mp4', 'V_452.mp4', 'V_453.mp4', 'V_454.mp4', 'V_455.mp4', 'V_456.mp4', 'V_457.mp4', 'V_458.mp4', 'V_459.mp4', 'V_46.mp4', 'V_460.mp4', 'V_461.mp4', 'V_462.mp4', 'V_463.mp4', 'V_464.mp4', 'V_465.mp4', 'V_466.mp4', 'V_467.mp4', 'V_468.mp4', 'V_469.mp4', 'V_47.mp4', 'V_470.mp4', 'V_471.mp4', 'V_472.mp4', 'V_473.mp4', 'V_474.mp4', 'V_475.mp4', 'V_476.mp4', 'V_477.mp4', 'V_478.mp4', 'V_479.mp4', 'V_48.mp4', 'V_480.mp4', 'V_481.mp4', 'V_482.mp4', 'V_483.mp4', 'V_484.mp4', 'V_485.mp4', 'V_486.mp4', 'V_487.mp4', 'V_488.mp4', 'V_489.mp4', 'V_49.mp4', 'V_490.mp4', 'V_491.mp4', 'V_492.mp4', 'V_493.mp4', 'V_494.mp4', 'V_495.mp4', 'V_496.mp4', 'V_497.mp4', 'V_498.mp4', 'V_499.mp4', 'V_5.mp4', 'V_50.mp4', 'V_500.mp4', 'V_501.mp4', 'V_502.mp4', 'V_503.mp4', 'V_504.mp4', 'V_505.mp4', 'V_506.mp4', 'V_507.mp4', 'V_508.mp4', 'V_509.mp4', 'V_51.mp4', 'V_510.mp4', 'V_511.mp4', 'V_512.mp4', 'V_513.mp4', 'V_514.mp4', 'V_515.mp4', 'V_516.mp4', 'V_517.mp4', 'V_518.mp4', 'V_519.mp4', 'V_52.mp4', 'V_520.mp4', 'V_521.mp4', 'V_522.mp4', 'V_523.mp4', 'V_524.mp4', 'V_525.mp4', 'V_526.mp4', 'V_527.mp4', 'V_528.mp4', 'V_529.mp4', 'V_53.mp4', 'V_530.mp4', 'V_531.mp4', 'V_532.mp4', 'V_533.mp4', 'V_534.mp4', 'V_535.mp4', 'V_536.mp4', 'V_537.mp4', 'V_538.mp4', 'V_539.mp4', 'V_54.mp4', 'V_540.mp4', 'V_541.mp4', 'V_542.mp4', 'V_543.mp4', 'V_544.mp4', 'V_545.mp4', 'V_546.mp4', 'V_547.mp4', 'V_548.mp4', 'V_549.mp4', 'V_55.mp4', 'V_550.mp4', 'V_551.mp4', 'V_552.mp4', 'V_553.mp4', 'V_554.mp4', 'V_555.mp4', 'V_556.mp4', 'V_557.mp4', 'V_558.mp4', 'V_559.mp4', 'V_56.mp4', 'V_560.mp4', 'V_561.mp4', 'V_562.mp4', 'V_563.mp4', 'V_564.mp4', 'V_565.mp4', 'V_566.mp4', 'V_567.mp4', 'V_568.mp4', 'V_569.mp4', 'V_57.mp4', 'V_570.mp4', 'V_571.mp4', 'V_572.mp4', 'V_573.mp4', 'V_574.mp4', 'V_575.mp4', 'V_576.mp4', 'V_577.mp4', 'V_578.mp4', 'V_579.mp4', 'V_58.mp4', 'V_580.mp4', 'V_581.mp4', 'V_582.mp4', 'V_583.mp4', 'V_584.mp4', 'V_585.mp4', 'V_586.mp4', 'V_587.mp4', 'V_588.mp4', 'V_589.mp4', 'V_59.mp4', 'V_590.mp4', 'V_591.mp4', 'V_592.mp4', 'V_593.mp4', 'V_594.mp4', 'V_595.mp4', 'V_596.mp4', 'V_597.mp4', 'V_598.mp4', 'V_599.mp4', 'V_6.mp4', 'V_60.mp4', 'V_600.mp4', 'V_601.mp4', 'V_602.mp4', 'V_603.mp4', 'V_604.mp4', 'V_605.mp4', 'V_606.mp4', 'V_607.mp4', 'V_608.mp4', 'V_609.mp4', 'V_61.mp4', 'V_610.mp4', 'V_611.mp4', 'V_612.mp4', 'V_613.mp4', 'V_614.mp4', 'V_615.mp4', 'V_616.mp4', 'V_617.mp4', 'V_618.mp4', 'V_619.mp4', 'V_62.mp4', 'V_620.mp4', 'V_621.mp4', 'V_622.mp4', 'V_623.mp4', 'V_624.mp4', 'V_625.mp4', 'V_626.mp4', 'V_627.mp4', 'V_628.mp4', 'V_629.mp4', 'V_63.mp4', 'V_630.mp4', 'V_631.mp4', 'V_632.mp4', 'V_633.mp4', 'V_634.mp4', 'V_635.mp4', 'V_636.mp4', 'V_637.mp4', 'V_638.mp4', 'V_639.mp4', 'V_64.mp4', 'V_640.mp4', 'V_641.mp4', 'V_642.mp4', 'V_643.mp4', 'V_644.mp4', 'V_645.mp4', 'V_646.mp4', 'V_647.mp4', 'V_648.mp4', 'V_649.mp4', 'V_65.mp4', 'V_650.mp4', 'V_651.mp4', 'V_652.mp4', 'V_653.mp4', 'V_654.mp4', 'V_655.mp4', 'V_656.mp4', 'V_657.mp4', 'V_658.mp4', 'V_659.mp4', 'V_66.mp4', 'V_660.mp4', 'V_661.mp4', 'V_662.mp4', 'V_663.mp4', 'V_664.mp4', 'V_665.mp4', 'V_666.mp4', 'V_667.mp4', 'V_668.mp4', 'V_669.mp4', 'V_67.mp4', 'V_670.mp4', 'V_671.mp4', 'V_672.mp4', 'V_673.mp4', 'V_674.mp4', 'V_675.mp4', 'V_676.mp4', 'V_677.mp4', 'V_678.mp4', 'V_679.mp4', 'V_68.mp4', 'V_680.mp4', 'V_681.mp4', 'V_682.mp4', 'V_683.mp4', 'V_684.mp4', 'V_685.mp4', 'V_686.mp4', 'V_687.mp4', 'V_688.mp4', 'V_689.mp4', 'V_69.mp4', 'V_690.mp4', 'V_691.mp4', 'V_692.mp4', 'V_693.mp4', 'V_694.mp4', 'V_695.mp4', 'V_696.mp4', 'V_697.mp4', 'V_698.mp4', 'V_699.mp4', 'V_7.mp4', 'V_70.mp4', 'V_700.mp4', 'V_701.mp4', 'V_702.mp4', 'V_703.mp4', 'V_704.mp4', 'V_705.mp4', 'V_706.mp4', 'V_707.mp4', 'V_708.mp4', 'V_709.mp4', 'V_71.mp4', 'V_710.mp4', 'V_711.mp4', 'V_712.mp4', 'V_713.mp4', 'V_714.mp4', 'V_715.mp4', 'V_716.mp4', 'V_717.mp4', 'V_718.mp4', 'V_719.mp4', 'V_72.mp4', 'V_720.mp4', 'V_721.mp4', 'V_722.mp4', 'V_723.mp4', 'V_724.mp4', 'V_725.mp4', 'V_726.mp4', 'V_727.mp4', 'V_728.mp4', 'V_729.mp4', 'V_73.mp4', 'V_730.mp4', 'V_731.mp4', 'V_732.mp4', 'V_733.mp4', 'V_734.mp4', 'V_735.mp4', 'V_736.mp4', 'V_737.mp4', 'V_738.mp4', 'V_739.mp4', 'V_74.mp4', 'V_740.mp4', 'V_741.mp4', 'V_742.mp4', 'V_743.mp4', 'V_744.mp4', 'V_745.mp4', 'V_746.mp4', 'V_747.mp4', 'V_748.mp4', 'V_749.mp4', 'V_75.mp4', 'V_750.mp4', 'V_751.mp4', 'V_752.mp4', 'V_753.mp4', 'V_754.mp4', 'V_755.mp4', 'V_756.mp4', 'V_757.mp4', 'V_758.mp4', 'V_759.mp4', 'V_76.mp4', 'V_760.mp4', 'V_761.mp4', 'V_762.mp4', 'V_763.mp4', 'V_764.mp4', 'V_765.mp4', 'V_766.mp4', 'V_767.mp4', 'V_768.mp4', 'V_769.mp4', 'V_77.mp4', 'V_770.mp4', 'V_771.mp4', 'V_772.mp4', 'V_773.mp4', 'V_774.mp4', 'V_775.mp4', 'V_776.mp4', 'V_777.mp4', 'V_778.mp4', 'V_779.mp4', 'V_78.mp4', 'V_780.mp4', 'V_781.mp4', 'V_782.mp4', 'V_783.mp4', 'V_784.mp4', 'V_785.mp4', 'V_786.mp4', 'V_787.mp4', 'V_788.mp4', 'V_789.mp4', 'V_79.mp4', 'V_790.mp4', 'V_791.mp4', 'V_792.mp4', 'V_793.mp4', 'V_794.mp4', 'V_795.mp4', 'V_796.mp4', 'V_797.mp4', 'V_798.mp4', 'V_799.mp4', 'V_8.mp4', 'V_80.mp4', 'V_800.mp4', 'V_801.mp4', 'V_802.mp4', 'V_803.mp4', 'V_804.mp4', 'V_805.mp4', 'V_806.mp4', 'V_807.mp4', 'V_808.mp4', 'V_809.mp4', 'V_81.mp4', 'V_810.mp4', 'V_811.mp4', 'V_812.mp4', 'V_813.mp4', 'V_814.mp4', 'V_815.mp4', 'V_816.mp4', 'V_817.mp4', 'V_818.mp4', 'V_819.mp4', 'V_82.mp4', 'V_820.mp4', 'V_821.mp4', 'V_822.mp4', 'V_823.mp4', 'V_824.mp4', 'V_825.mp4', 'V_826.mp4', 'V_827.mp4', 'V_828.mp4', 'V_829.mp4', 'V_83.mp4', 'V_830.mp4', 'V_831.mp4', 'V_832.mp4', 'V_833.mp4', 'V_834.mp4', 'V_835.mp4', 'V_836.mp4', 'V_837.mp4', 'V_838.mp4', 'V_839.mp4', 'V_84.mp4', 'V_840.mp4', 'V_841.mp4', 'V_842.mp4', 'V_843.mp4', 'V_844.mp4', 'V_845.mp4', 'V_846.mp4', 'V_847.mp4', 'V_848.mp4', 'V_849.mp4', 'V_85.mp4', 'V_850.mp4', 'V_851.mp4', 'V_852.mp4', 'V_853.mp4', 'V_854.mp4', 'V_855.mp4', 'V_856.mp4', 'V_857.mp4', 'V_858.mp4', 'V_859.mp4', 'V_86.mp4', 'V_860.mp4', 'V_861.mp4', 'V_862.mp4', 'V_863.mp4', 'V_864.mp4', 'V_865.mp4', 'V_866.mp4', 'V_867.mp4', 'V_868.mp4', 'V_869.mp4', 'V_87.mp4', 'V_870.mp4', 'V_871.mp4', 'V_872.mp4', 'V_873.mp4', 'V_874.mp4', 'V_875.mp4', 'V_876.mp4', 'V_877.mp4', 'V_878.mp4', 'V_879.mp4', 'V_88.mp4', 'V_880.mp4', 'V_881.mp4', 'V_882.mp4', 'V_883.mp4', 'V_884.mp4', 'V_885.mp4', 'V_886.mp4', 'V_887.mp4', 'V_888.mp4', 'V_889.mp4', 'V_89.mp4', 'V_890.mp4', 'V_891.mp4', 'V_892.mp4', 'V_893.mp4', 'V_894.mp4', 'V_895.mp4', 'V_896.mp4', 'V_897.mp4', 'V_898.mp4', 'V_899.mp4', 'V_9.mp4', 'V_90.mp4', 'V_900.mp4', 'V_901.mp4', 'V_902.mp4', 'V_903.mp4', 'V_904.mp4', 'V_905.mp4', 'V_906.mp4', 'V_907.mp4', 'V_908.mp4', 'V_909.mp4', 'V_91.mp4', 'V_910.mp4', 'V_911.mp4', 'V_912.mp4', 'V_913.mp4', 'V_914.mp4', 'V_915.mp4', 'V_916.mp4', 'V_917.mp4', 'V_918.mp4', 'V_919.mp4', 'V_92.mp4', 'V_920.mp4', 'V_921.mp4', 'V_922.mp4', 'V_923.mp4', 'V_924.mp4', 'V_925.mp4', 'V_926.mp4', 'V_927.mp4', 'V_928.mp4', 'V_929.mp4', 'V_93.mp4', 'V_930.mp4', 'V_931.mp4', 'V_932.mp4', 'V_933.mp4', 'V_934.mp4', 'V_935.mp4', 'V_936.mp4', 'V_937.mp4', 'V_938.mp4', 'V_939.mp4', 'V_94.mp4', 'V_940.mp4', 'V_941.mp4', 'V_942.mp4', 'V_943.mp4', 'V_944.mp4', 'V_945.mp4', 'V_946.mp4', 'V_947.mp4', 'V_948.mp4', 'V_949.mp4', 'V_95.mp4', 'V_950.mp4', 'V_951.mp4', 'V_952.mp4', 'V_953.mp4', 'V_954.mp4', 'V_955.mp4', 'V_956.mp4', 'V_957.mp4', 'V_958.mp4', 'V_959.mp4', 'V_96.mp4', 'V_960.mp4', 'V_961.mp4', 'V_962.mp4', 'V_963.mp4', 'V_964.mp4', 'V_965.mp4', 'V_966.mp4', 'V_967.mp4', 'V_968.mp4', 'V_969.mp4', 'V_97.mp4', 'V_970.mp4', 'V_971.mp4', 'V_972.mp4', 'V_973.mp4', 'V_974.mp4', 'V_975.mp4', 'V_976.mp4', 'V_977.mp4', 'V_978.mp4', 'V_979.mp4', 'V_98.mp4', 'V_980.mp4', 'V_981.mp4', 'V_982.mp4', 'V_983.mp4', 'V_984.mp4', 'V_985.mp4', 'V_986.mp4', 'V_987.mp4', 'V_988.mp4', 'V_989.mp4', 'V_99.mp4', 'V_990.mp4', 'V_991.mp4', 'V_992.mp4', 'V_993.mp4', 'V_994.mp4', 'V_995.mp4', 'V_996.mp4', 'V_997.mp4', 'V_998.mp4', 'V_999.mp4']\n"
     ]
    }
   ],
   "source": [
    "video_list = os.listdir(data_path)\n",
    "print(video_list)"
   ]
  },
  {
   "cell_type": "code",
   "execution_count": 6,
   "metadata": {},
   "outputs": [
    {
     "name": "stderr",
     "output_type": "stream",
     "text": [
      "100%|████████████████████████████████████████████████████████████████████████████| 1000/1000 [1:00:34<00:00,  3.63s/it]\n"
     ]
    }
   ],
   "source": [
    "for video in tqdm(video_list):\n",
    "    video_path = os.path.join(data_path,video)\n",
    "    name = video.split('.')[0]\n",
    "    saving_at = os.path.join(save_path,name)\n",
    "    if not os.path.exists(saving_at):\n",
    "        os.makedirs(saving_at)\n",
    "    \n",
    "    fvs = FileVideoStream(video_path).start()\n",
    "    time.sleep(1)  #allowing buffer to fill\n",
    "    \n",
    "    counter = 0\n",
    "    while fvs.more():\n",
    "        frame = fvs.read()\n",
    "        frame = imutils.resize(frame,width=224,height=224)\n",
    "        frame_name = os.path.join(saving_at,str(counter)+'.JPG')\n",
    "        cv2.imwrite(frame_name,frame)\n",
    "        counter+=1"
   ]
  },
  {
   "cell_type": "code",
   "execution_count": null,
   "metadata": {},
   "outputs": [],
   "source": []
  }
 ],
 "metadata": {
  "kernelspec": {
   "display_name": "Python 3",
   "language": "python",
   "name": "python3"
  },
  "language_info": {
   "codemirror_mode": {
    "name": "ipython",
    "version": 3
   },
   "file_extension": ".py",
   "mimetype": "text/x-python",
   "name": "python",
   "nbconvert_exporter": "python",
   "pygments_lexer": "ipython3",
   "version": "3.7.0"
  }
 },
 "nbformat": 4,
 "nbformat_minor": 2
}
